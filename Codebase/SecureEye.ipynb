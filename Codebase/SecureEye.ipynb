{
 "cells": [
  {
   "cell_type": "markdown",
   "metadata": {},
   "source": [
    "# SecureEye\n",
    "\n",
    "## Data Cleaning\n",
    "The original data is in the form of two separate csv files, one for the purposes of training a dataset and the other for testing. In order to create a more robust machine learning model, I have chosen to combine these files into one single csv and then perform data cleaning on the whole dataset. "
   ]
  },
  {
   "cell_type": "code",
   "execution_count": 2,
   "metadata": {},
   "outputs": [],
   "source": [
    "# Adding all the library imports at the start\n",
    "\n",
    "import pandas as pd"
   ]
  },
  {
   "cell_type": "code",
   "execution_count": 5,
   "metadata": {},
   "outputs": [
    {
     "name": "stdout",
     "output_type": "stream",
     "text": [
      "29823525\n",
      "12781537\n",
      "42605062\n"
     ]
    }
   ],
   "source": [
    "# Read CSV files into dataframes\n",
    "fraudTrain = pd.read_csv('../Dataset/fraudTrain.csv')\n",
    "print(\"Trainging Dataset Size:\", fraudTrain.size)\n",
    "fraudTest = pd.read_csv('../Dataset/fraudTest.csv')\n",
    "print(\"Test Dataset Size:\", fraudTest.size)\n",
    "\n",
    "# Combine these two datasets into one and create a new output file\n",
    "combined_data = pd.concat([fraudTrain, fraudTest], ignore_index=True)\n",
    "print(\"Final Dataset Size:\", combined_data.size)\n",
    "combined_data.to_csv(\"../Dataset/Fraud_Detection_Dataset.csv\")"
   ]
  }
 ],
 "metadata": {
  "kernelspec": {
   "display_name": "Python 3",
   "language": "python",
   "name": "python3"
  },
  "language_info": {
   "codemirror_mode": {
    "name": "ipython",
    "version": 3
   },
   "file_extension": ".py",
   "mimetype": "text/x-python",
   "name": "python",
   "nbconvert_exporter": "python",
   "pygments_lexer": "ipython3",
   "version": "3.10.11"
  }
 },
 "nbformat": 4,
 "nbformat_minor": 2
}
